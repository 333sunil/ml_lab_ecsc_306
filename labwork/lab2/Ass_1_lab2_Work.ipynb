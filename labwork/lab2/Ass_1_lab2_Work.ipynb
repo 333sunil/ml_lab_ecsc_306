{
 "cells": [
  {
   "cell_type": "code",
   "execution_count": 59,
   "metadata": {
    "collapsed": true
   },
   "outputs": [],
   "source": [
    "import tensorflow as tf\n",
    "import matplotlib.pyplot as plt\n",
    "from time import time\n",
    "import numpy\n",
    "rng = numpy.random"
   ]
  },
  {
   "cell_type": "markdown",
   "metadata": {},
   "source": [
    "# Coefficients with 0"
   ]
  },
  {
   "cell_type": "code",
   "execution_count": 60,
   "metadata": {
    "scrolled": true
   },
   "outputs": [
    {
     "name": "stdout",
     "output_type": "stream",
     "text": [
      "Epoch= 2000  and Learn_rate: 0.0005\n",
      ">error=0.08150 Time:0.04005\n",
      "\n",
      "Epoch= 1000  and Learn_rate: 0.0005\n",
      ">error=0.08717 Time:0.01602\n",
      "\n",
      "\n",
      " Minimum Error:\n",
      "Epoch: 2000  Learning Rate: 0.0005  m= 0.25896938896728455  c= 0.7448248315780331\n"
     ]
    },
    {
     "data": {
      "image/png": "[encoded data removed]",
      "text/plain": [
       "<matplotlib.figure.Figure at 0x1796cd70358>"
      ]
     },
     "metadata": {},
     "output_type": "display_data"
    }
   ],
   "source": [
    "def Pred(row,m,c):\n",
    "    sum_ = c\n",
    "    sum_ += m * row\n",
    "    return sum_\n",
    "\n",
    "def SGD(train, l_rate, epoch):\n",
    "    start=time()\n",
    "    m=0.0\n",
    "    c=0.0\n",
    "    global err\n",
    "    global v\n",
    "    flag =0\n",
    "    prev_err=0.0\n",
    "    for ep in range(epoch):\n",
    "        sum_error = 0\n",
    "        for row in train:\n",
    "            pred = Pred(row[0], m,c)\n",
    "            error = pred - row[-1]\n",
    "            sum_error += error**2\n",
    "            \n",
    "            for i in range(len(row)-1):\n",
    "                c = c - l_rate * error\n",
    "                m = m - l_rate * error * row[i]\n",
    "                \n",
    "        sum_error/=(2*len(train_X))\n",
    "        if sum_error == prev_err:\n",
    "            flag=flag+1\n",
    "        else:\n",
    "            prev_err = sum_error\n",
    "            flag=0\n",
    "        if flag >= 5:\n",
    "            print(ep)\n",
    "            break\n",
    "    elapsed = time() - start    \n",
    "    print('>error=%.5f Time:%.5f\\n' % (sum_error,elapsed))\n",
    "    if(sum_error < err):\n",
    "        err=sum_error\n",
    "        v = [l_rate, epoch,m,c]\n",
    "    return v\n",
    "\n",
    "train_X= [3.3,4.4,5.5,6.71,6.93,4.168,9.779,6.182,7.59,2.167,7.042,10.791,5.313,7.997,5.654,9.27]\n",
    "train_Y =[1.7,2.76,2.09,3.19,1.694,1.573,3.366,2.596,2.53,1.221,2.827,3.465,1.65,2.904,2.42,2.94]\n",
    "\n",
    "dataset = []\n",
    "for i in range(len(train_X)):\n",
    "    dataset.append([train_X[i],train_Y[i]])\n",
    "err=9999\n",
    "v =[]\n",
    "epoch=[2000,1000]\n",
    "l_rate=[0.0005]\n",
    "for ep in epoch:\n",
    "    for l in l_rate:\n",
    "        print('Epoch=',ep,' and Learn_rate:',l)\n",
    "        values =SGD(dataset, l, ep)\n",
    "with tf.Session() as sess:\n",
    "    print('\\n','Minimum Error:')\n",
    "    print('Epoch:',values[1],' Learning Rate:',values[0],' m=',values[2],' c=',values[3])\n",
    "    plt.plot(train_X, train_Y, 'ro', label='Original data')\n",
    "    plt.plot(train_X, sess.run(tf.multiply(values[2],train_X)+values[3]), label='Fitted line')\n",
    "    plt.legend()\n",
    "    plt.show()\n",
    "    sess.close()"
   ]
  },
  {
   "cell_type": "markdown",
   "metadata": {},
   "source": [
    "# Random Coefficients"
   ]
  },
  {
   "cell_type": "code",
   "execution_count": 61,
   "metadata": {},
   "outputs": [
    {
     "name": "stdout",
     "output_type": "stream",
     "text": [
      "Epoch= 2000  and Learn_rate: 0.0005\n",
      ">error=0.08032 Time:0.02371\n",
      "\n",
      "Epoch= 1000  and Learn_rate: 0.0005\n",
      ">error=0.08033 Time:0.03125\n",
      "\n",
      "\n",
      " Minimum Error:\n",
      "Epoch: 2000  Learning Rate: 0.0005  m= 0.23863582723732296  c= 0.8938966181236127\n"
     ]
    },
    {
     "data": {
      "image/png": "[encoded data removed]",
      "text/plain": [
       "<matplotlib.figure.Figure at 0x1796cd89208>"
      ]
     },
     "metadata": {},
     "output_type": "display_data"
    }
   ],
   "source": [
    "def Pred(row,m,c):\n",
    "    sum_ = c\n",
    "    sum_ += m * row\n",
    "    return sum_\n",
    "\n",
    "def SGD(train, l_rate, epoch):\n",
    "    start=time()\n",
    "    m=rng.random()\n",
    "    c=rng.random()\n",
    "    global err\n",
    "    global v\n",
    "    flag =0\n",
    "    prev_err=0.0\n",
    "    for ep in range(epoch):\n",
    "        sum_error = 0\n",
    "        for row in train:\n",
    "            pred = Pred(row[0], m,c)\n",
    "            error = pred - row[-1]\n",
    "            sum_error += error**2\n",
    "            \n",
    "            for i in range(len(row)-1):\n",
    "                c = c - l_rate * error\n",
    "                m = m - l_rate * error * row[i]\n",
    "                \n",
    "        sum_error/=(2*len(train_X))\n",
    "        if sum_error == prev_err:\n",
    "            flag=flag+1\n",
    "        else:\n",
    "            prev_err = sum_error\n",
    "            flag=0\n",
    "        if flag >= 5:\n",
    "            print(ep)\n",
    "            break\n",
    "    elapsed = time() - start    \n",
    "    print('>error=%.5f Time:%.5f\\n' % (sum_error,elapsed))\n",
    "    if(sum_error < err):\n",
    "        err=sum_error\n",
    "        v = [l_rate, epoch,m,c]\n",
    "    return v\n",
    "\n",
    "train_X= [3.3,4.4,5.5,6.71,6.93,4.168,9.779,6.182,7.59,2.167,7.042,10.791,5.313,7.997,5.654,9.27]\n",
    "train_Y =[1.7,2.76,2.09,3.19,1.694,1.573,3.366,2.596,2.53,1.221,2.827,3.465,1.65,2.904,2.42,2.94]\n",
    "\n",
    "dataset = []\n",
    "for i in range(len(train_X)):\n",
    "    dataset.append([train_X[i],train_Y[i]])\n",
    "err=9999\n",
    "v =[]\n",
    "epoch=[2000,1000]\n",
    "l_rate=[0.0005]\n",
    "for ep in epoch:\n",
    "    for l in l_rate:\n",
    "        print('Epoch=',ep,' and Learn_rate:',l)\n",
    "        values =SGD(dataset, l, ep)\n",
    "with tf.Session() as sess:\n",
    "    print('\\n','Minimum Error:')\n",
    "    print('Epoch:',values[1],' Learning Rate:',values[0],' m=',values[2],' c=',values[3])\n",
    "    plt.plot(train_X, train_Y, 'ro', label='Original data')\n",
    "    plt.plot(train_X, sess.run(tf.multiply(values[2],train_X)+values[3]), label='Fitted line')\n",
    "    plt.legend()\n",
    "    plt.show()\n",
    "    sess.close()"
   ]
  },
  {
   "cell_type": "code",
   "execution_count": null,
   "metadata": {
    "collapsed": true
   },
   "outputs": [],
   "source": []
  }
 ],
 "metadata": {
  "kernelspec": {
   "display_name": "Python 3",
   "language": "python",
   "name": "python3"
  },
  "language_info": {
   "codemirror_mode": {
    "name": "ipython",
    "version": 3
   },
   "file_extension": ".py",
   "mimetype": "text/x-python",
   "name": "python",
   "nbconvert_exporter": "python",
   "pygments_lexer": "ipython3",
   "version": "3.5.3"
  }
 },
 "nbformat": 4,
 "nbformat_minor": 2
}
