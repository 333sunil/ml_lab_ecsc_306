{
 "cells": [
  {
   "cell_type": "code",
   "execution_count": 69,
   "metadata": {},
   "outputs": [
    {
     "data": {
      "image/png": "[encoded data removed]",
      "text/plain": [
       "<matplotlib.figure.Figure at 0x1db56f25358>"
      ]
     },
     "metadata": {},
     "output_type": "display_data"
    },
    {
     "data": {
      "text/plain": [
       "0.73891717"
      ]
     },
     "execution_count": 69,
     "metadata": {},
     "output_type": "execute_result"
    }
   ],
   "source": [
    "import tensorflow as tf\n",
    "import matplotlib.pyplot as plt\n",
    "import math\n",
    "\n",
    "tf.reset_default_graph()\n",
    "x  = ([1.14159, 1.71828,2.51800,2.8900,3.71800,3.10059])\n",
    "y  = ([2.91828,3.24159,3.14259,3.98655,3.5076 ,3.61828])\n",
    "\n",
    "def mean(m):\n",
    "    sum=0\n",
    "    for i in range(len(m)):\n",
    "        sum+=m[i]\n",
    "    return (sum/len(m))\n",
    "\n",
    "_x = mean(x)\n",
    "_y = mean(y)\n",
    "\n",
    "def variance(m):\n",
    "    sum=0\n",
    "    for i in range(len(m)):\n",
    "        sum+=math.pow((m[i]-_x),2)\n",
    "    return sum\n",
    "\n",
    "V = variance(x)\n",
    "\n",
    "def covariance():\n",
    "    sum=0\n",
    "    for i in range(len(x)):\n",
    "        sum+=((x[i]-_x)*(y[i]-_y))\n",
    "    return sum\n",
    "\n",
    "CV = covariance()\n",
    "\n",
    "m = CV/V\n",
    "c = _y-(m*_x)\n",
    "\n",
    "model = []\n",
    "for i in range(len(x)):\n",
    "    model.append((m*x[i])+c)\n",
    "\n",
    "plt.plot(x,y,'ro',x,model,'b--')\n",
    "plt.show()\n",
    "\n",
    "sess = tf.Session()\n",
    "rmse = tf.reduce_sum(tf.sqrt(tf.divide((tf.square(tf.subtract(y,_y))),len(y))))\n",
    "sess.run(rmse)"
   ]
  },
  {
   "cell_type": "code",
   "execution_count": null,
   "metadata": {
    "collapsed": true
   },
   "outputs": [],
   "source": []
  }
 ],
 "metadata": {
  "kernelspec": {
   "display_name": "Python 3",
   "language": "python",
   "name": "python3"
  },
  "language_info": {
   "codemirror_mode": {
    "name": "ipython",
    "version": 3
   },
   "file_extension": ".py",
   "mimetype": "text/x-python",
   "name": "python",
   "nbconvert_exporter": "python",
   "pygments_lexer": "ipython3",
   "version": "3.5.3"
  }
 },
 "nbformat": 4,
 "nbformat_minor": 2
}
