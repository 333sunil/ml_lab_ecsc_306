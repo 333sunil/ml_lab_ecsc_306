{
 "cells": [
  {
   "cell_type": "code",
   "execution_count": 22,
   "metadata": {},
   "outputs": [
    {
     "data": {
      "image/png": "[encoded data removed]",
      "text/plain": [
       "<matplotlib.figure.Figure at 0x21b2a583d30>"
      ]
     },
     "metadata": {},
     "output_type": "display_data"
    }
   ],
   "source": [
    "import tensorflow as tf\n",
    "import matplotlib.pyplot as plt\n",
    "import math\n",
    "\n",
    "tf.reset_default_graph()\n",
    "x  = ([1.14159, 1.71828,2.51800,2.8900,3.71800,3.10059,4.56,1.345])\n",
    "y  = ([2.91828,3.24159,3.14259,3.98655,3.5076 ,3.61828,6.34,3.345])\n",
    "\n",
    "def mean(m):\n",
    "    sum=0\n",
    "    for i in range(len(m)):\n",
    "        sum+=m[i]\n",
    "    return (sum/len(m))\n",
    "\n",
    "_x = tf.to_float(tf.reduce_mean(x))\n",
    "_y = tf.to_float(tf.reduce_mean(y))\n",
    "\n",
    "sess = tf.Session()\n",
    "sess.run(_x)\n",
    "sess.run(_y)\n",
    "V = tf.to_float(tf.reduce_sum(tf.square(x-_x)))\n",
    "sess.run(V)\n",
    "CV = tf.to_float(tf.reduce_sum(tf.multiply((x-_x),(y-_y))))\n",
    "sess.run(CV)\n",
    "m = tf.to_float(tf.divide(CV,V))\n",
    "sess.run(m)\n",
    "c = tf.to_float(tf.subtract(_y,(m*_x)))\n",
    "sess.run(c)\n",
    "rmse = tf.reduce_sum(tf.sqrt(tf.divide((tf.square(tf.subtract(y,_y))),len(y))))\n",
    "sess.run(rmse)\n",
    "test = ([1.345,0.34567,4.2345,6.23322,3.3456,2.456])\n",
    "model = tf.add(tf.multiply(m,test),c)\n",
    "\n",
    "plt.plot(x,y,'ro',test,sess.run(model),'b')\n",
    "plt.show()"
   ]
  },
  {
   "cell_type": "code",
   "execution_count": null,
   "metadata": {
    "collapsed": true
   },
   "outputs": [],
   "source": []
  }
 ],
 "metadata": {
  "kernelspec": {
   "display_name": "Python 3",
   "language": "python",
   "name": "python3"
  },
  "language_info": {
   "codemirror_mode": {
    "name": "ipython",
    "version": 3
   },
   "file_extension": ".py",
   "mimetype": "text/x-python",
   "name": "python",
   "nbconvert_exporter": "python",
   "pygments_lexer": "ipython3",
   "version": "3.5.3"
  }
 },
 "nbformat": 4,
 "nbformat_minor": 2
}
