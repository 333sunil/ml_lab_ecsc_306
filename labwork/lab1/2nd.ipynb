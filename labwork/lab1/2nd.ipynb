{
 "cells": [
  {
   "cell_type": "code",
   "execution_count": 30,
   "metadata": {},
   "outputs": [
    {
     "data": {
      "image/png": "[encoded data removed]",
      "text/plain": [
       "<matplotlib.figure.Figure at 0x2776293fb38>"
      ]
     },
     "metadata": {},
     "output_type": "display_data"
    },
    {
     "data": {
      "text/plain": [
       "array([ 2.97314596,  4.32744169,  6.20549965,  9.02357292,  7.57365084], dtype=float32)"
      ]
     },
     "execution_count": 30,
     "metadata": {},
     "output_type": "execute_result"
    }
   ],
   "source": [
    "import tensorflow as tf\n",
    "import matplotlib.pyplot as plt\n",
    "\n",
    "tf.reset_default_graph()\n",
    "x  = [1.14159, 1.71828,2.51800,3.71800,3.10059]\n",
    "y  = [ 2.31828,3.14159,3.14159,2.98655 ,3.71828]\n",
    "_x = tf.reduce_mean(x,name=\"mean_x\")\n",
    "_y = tf.reduce_mean(y,name=\"mean_y\")\n",
    "\n",
    "sess = tf.Session()\n",
    "\n",
    "V = tf.reduce_sum(tf.square(tf.subtract(x,_x)))\n",
    "sess.run(V)\n",
    "\n",
    "CV = tf.reduce_sum(tf.multiply(tf.subtract(x,_x),tf.subtract(y,_y)))\n",
    "sess.run(CV)\n",
    "\n",
    "c =tf.divide(CV,V)\n",
    "sess.run(c)\n",
    "\n",
    "m = tf.subtract(_y,tf.multiply(c,_x))\n",
    "sess.run(m)\n",
    "\n",
    "y1 = tf.add(tf.multiply(m,x),c)\n",
    "y1 = tf.reshape(y1, [5, ])\n",
    "\n",
    "\n",
    "plt.plot(x, y,'ro')\n",
    "plt.show()\n",
    "\n",
    "sess.run(y1)"
   ]
  },
  {
   "cell_type": "code",
   "execution_count": null,
   "metadata": {
    "collapsed": true
   },
   "outputs": [],
   "source": []
  }
 ],
 "metadata": {
  "kernelspec": {
   "display_name": "Python 3",
   "language": "python",
   "name": "python3"
  },
  "language_info": {
   "codemirror_mode": {
    "name": "ipython",
    "version": 3
   },
   "file_extension": ".py",
   "mimetype": "text/x-python",
   "name": "python",
   "nbconvert_exporter": "python",
   "pygments_lexer": "ipython3",
   "version": "3.5.3"
  }
 },
 "nbformat": 4,
 "nbformat_minor": 2
}
