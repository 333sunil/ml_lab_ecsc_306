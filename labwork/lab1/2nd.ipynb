{
 "cells": [
  {
   "cell_type": "code",
   "execution_count": 21,
   "metadata": {},
   "outputs": [
    {
     "data": {
      "text/plain": [
       "0.78015023"
      ]
     },
     "execution_count": 21,
     "metadata": {},
     "output_type": "execute_result"
    }
   ],
   "source": [
    "import tensorflow as tf\n",
    "import matplotlib.pyplot as plt\n",
    "\n",
    "tf.reset_default_graph()\n",
    "x  = ([1.14159, 1.71828,2.51800,2.8900,3.71800,3.10059])\n",
    "y  = ([ 2.91828,3.14159,3.14159,3.98655,3.5076 ,3.61828])\n",
    "    \n",
    "_x = tf.reduce_mean(x)\n",
    "_y = tf.reduce_mean(y)\n",
    "\n",
    "sess = tf.Session()\n",
    "\n",
    "V = tf.reduce_sum(tf.square(x-_x))\n",
    "sess.run(V)\n",
    "\n",
    "CV = tf.reduce_sum(tf.multiply(tf.subtract(x,_x),tf.subtract(y,_y)))\n",
    "sess.run(CV)\n",
    "\n",
    "c = CV/V\n",
    "\n",
    "m = tf.subtract(_y,tf.multiply(c,_x))\n",
    "sess.run(m)\n",
    "\n",
    "model= tf.add(tf.multiply(m,x),c)\n",
    "sess.run(model)\n",
    "\n",
    "rmse = tf.reduce_sum(tf.sqrt(tf.divide((tf.square(tf.subtract(y,_y))),len(y))))\n",
    "sess.run(rmse)"
   ]
  },
  {
   "cell_type": "code",
   "execution_count": null,
   "metadata": {
    "collapsed": true
   },
   "outputs": [],
   "source": []
  }
 ],
 "metadata": {
  "kernelspec": {
   "display_name": "Python 3",
   "language": "python",
   "name": "python3"
  },
  "language_info": {
   "codemirror_mode": {
    "name": "ipython",
    "version": 3
   },
   "file_extension": ".py",
   "mimetype": "text/x-python",
   "name": "python",
   "nbconvert_exporter": "python",
   "pygments_lexer": "ipython3",
   "version": "3.5.3"
  }
 },
 "nbformat": 4,
 "nbformat_minor": 2
}
