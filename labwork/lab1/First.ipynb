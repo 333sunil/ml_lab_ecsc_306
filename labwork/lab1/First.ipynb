{
 "cells": [
  {
   "cell_type": "code",
   "execution_count": 1,
   "metadata": {},
   "outputs": [
    {
     "name": "stdout",
     "output_type": "stream",
     "text": [
      "9\n"
     ]
    }
   ],
   "source": [
    "import tensorflow as tf\n",
    "tf.reset_default_graph()\n",
    "with tf.name_scope(\"Add_a2_b2\"):\n",
    "    with tf.name_scope(\"Square_a\"):\n",
    "        a = tf.square(1)\n",
    "    with tf.name_scope(\"Square_b\"):\n",
    "        b = tf.square(2)\n",
    "c = tf.add(a, b,)\n",
    "with tf.name_scope(\"2ab\"):   \n",
    "    d = tf.multiply(1, 2,)\n",
    "    e = tf.multiply(d, 2,)\n",
    "f = tf.add(c, e,)\n",
    "\n",
    "with tf.Session() as sess:\n",
    "    writer = tf.summary.FileWriter(\"/tmp/tboard/output\", sess.graph)\n",
    "    print(sess.run(f))\n",
    "    writer.close()"
   ]
  },
  {
   "cell_type": "code",
   "execution_count": 3,
   "metadata": {},
   "outputs": [
    {
     "name": "stdout",
     "output_type": "stream",
     "text": [
      "-1\n"
     ]
    }
   ],
   "source": [
    "import tensorflow as tf\n",
    "tf.reset_default_graph()\n",
    "\n",
    "with tf.name_scope(\"sub_a3_b3\"):\n",
    "        a = tf.square(1)\n",
    "        a = tf.multiply(a,1,)\n",
    "        b = tf.square(2)\n",
    "        b = tf.multiply(b,2,)\n",
    "        c = tf.subtract(a,b)\n",
    "with tf.name_scope(\"mult_3ab_sub_a_b\"):\n",
    "    d = tf.multiply(1,2,)\n",
    "    d = tf.multiply(d,3,)\n",
    "    e = tf.subtract(1,2)\n",
    "    f = tf.multiply(d,e,)  \n",
    "g = tf.subtract(c,f,)\n",
    "\n",
    "with tf.Session() as sess:\n",
    "    writer = tf.summary.FileWriter(\"/tmp/tboard/output2\", sess.graph)\n",
    "    print(sess.run(g))\n",
    "    writer.close()"
   ]
  },
  {
   "cell_type": "code",
   "execution_count": null,
   "metadata": {
    "collapsed": true
   },
   "outputs": [],
   "source": []
  }
 ],
 "metadata": {
  "kernelspec": {
   "display_name": "Python 3",
   "language": "python",
   "name": "python3"
  },
  "language_info": {
   "codemirror_mode": {
    "name": "ipython",
    "version": 3
   },
   "file_extension": ".py",
   "mimetype": "text/x-python",
   "name": "python",
   "nbconvert_exporter": "python",
   "pygments_lexer": "ipython3",
   "version": "3.5.3"
  }
 },
 "nbformat": 4,
 "nbformat_minor": 2
}
